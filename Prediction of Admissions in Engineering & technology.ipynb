{
 "cells": [
  {
   "cell_type": "code",
   "execution_count": 165,
   "metadata": {},
   "outputs": [],
   "source": [
    " import numpy as np\n",
    "import matplotlib.pyplot as plt\n",
    "import pandas as pd"
   ]
  },
  {
   "cell_type": "code",
   "execution_count": 166,
   "metadata": {},
   "outputs": [],
   "source": [
    "mv = [\"na\",\"-\",\"n/a\"]"
   ]
  },
  {
   "cell_type": "code",
   "execution_count": 167,
   "metadata": {},
   "outputs": [],
   "source": [
    "list = [\"10th score\",\"12th score\",\"JEE Mains\",\"PI(Personal Interview)\",\"Apptitude Score\",\"Admitted or not?\"]"
   ]
  },
  {
   "cell_type": "code",
   "execution_count": 168,
   "metadata": {},
   "outputs": [],
   "source": [
    "\n",
    "dataset = pd.read_csv('datasetJobs.csv',na_values=mv)\n"
   ]
  },
  {
   "cell_type": "code",
   "execution_count": 169,
   "metadata": {},
   "outputs": [],
   "source": [
    "#dataset[1:7].isnull().sum()\n",
    "for i in list:\n",
    "    dataset[i].isnull().sum()"
   ]
  },
  {
   "cell_type": "code",
   "execution_count": 170,
   "metadata": {},
   "outputs": [],
   "source": [
    "for i in list:\n",
    "    mean =dataset[i].mean()\n",
    "    dataset[i].fillna(mean, inplace=True)\n",
    "\n",
    "#mean =dataset[1:7].mean()\n",
    "#dataset[1:7].fillna(mean, inplace=True)"
   ]
  },
  {
   "cell_type": "code",
   "execution_count": null,
   "metadata": {},
   "outputs": [],
   "source": []
  },
  {
   "cell_type": "code",
   "execution_count": 171,
   "metadata": {},
   "outputs": [],
   "source": [
    "X = dataset.iloc[:,1:6].values\n"
   ]
  },
  {
   "cell_type": "code",
   "execution_count": 172,
   "metadata": {},
   "outputs": [],
   "source": [
    "y = dataset.iloc[:,6].values"
   ]
  },
  {
   "cell_type": "code",
   "execution_count": 173,
   "metadata": {},
   "outputs": [
    {
     "data": {
      "text/plain": [
       "array([[ 77.        ,  79.        , 105.        ,   3.        ,\n",
       "          4.        ],\n",
       "       [ 73.32323232,  74.        ,  95.        ,   2.        ,\n",
       "          2.        ],\n",
       "       [ 81.        ,  84.        , 110.        ,   4.        ,\n",
       "          4.        ],\n",
       "       [ 84.        ,  87.        , 110.52525253,   3.        ,\n",
       "          4.        ],\n",
       "       [ 60.        ,  71.        , 134.        ,   2.        ,\n",
       "          3.        ],\n",
       "       [ 61.        ,  64.        ,  89.        ,   1.        ,\n",
       "          2.        ],\n",
       "       [ 48.        ,  50.        ,  64.        ,   0.        ,\n",
       "          2.38383838],\n",
       "       [ 78.        ,  80.        , 107.        ,   2.        ,\n",
       "          4.        ],\n",
       "       [ 76.        ,  79.        , 110.        ,   3.        ,\n",
       "          4.        ],\n",
       "       [ 82.        ,  84.        ,  95.        ,   2.        ,\n",
       "          2.        ],\n",
       "       [ 88.        ,  90.        , 185.        ,   4.        ,\n",
       "          4.        ],\n",
       "       [ 89.        ,  91.        , 147.        ,   3.        ,\n",
       "          3.        ],\n",
       "       [ 71.        ,  74.        , 140.        ,   3.        ,\n",
       "          3.        ],\n",
       "       [ 62.        ,  56.        ,  47.        ,   0.        ,\n",
       "          1.        ],\n",
       "       [ 68.        ,  78.        , 108.        ,   2.        ,\n",
       "          2.        ],\n",
       "       [ 75.        ,  80.        , 120.        ,   3.        ,\n",
       "          3.        ],\n",
       "       [ 62.        ,  54.        ,  77.        ,   1.        ,\n",
       "          1.        ],\n",
       "       [ 79.        ,  74.22222222, 100.        ,   1.        ,\n",
       "          2.        ],\n",
       "       [ 77.        ,  87.        , 124.        ,   2.        ,\n",
       "          4.        ],\n",
       "       [ 56.        ,  54.        ,  56.        ,   1.        ,\n",
       "          0.        ],\n",
       "       [ 65.        ,  66.        ,  89.        ,   3.        ,\n",
       "          4.        ],\n",
       "       [ 90.        ,  90.        , 192.        ,   5.        ,\n",
       "          5.        ],\n",
       "       [ 58.        ,  59.        ,  65.        ,   1.        ,\n",
       "          0.        ],\n",
       "       [ 55.        ,  51.        ,  87.        ,   0.        ,\n",
       "          2.        ],\n",
       "       [ 84.        ,  86.        , 145.        ,   3.        ,\n",
       "          3.        ],\n",
       "       [ 86.        ,  84.        , 150.        ,   4.        ,\n",
       "          3.        ],\n",
       "       [ 78.        ,  77.        , 124.        ,   2.        ,\n",
       "          3.        ],\n",
       "       [ 94.        ,  93.        , 196.        ,   5.        ,\n",
       "          5.        ],\n",
       "       [ 59.        ,  61.        ,  70.        ,   2.        ,\n",
       "          1.        ],\n",
       "       [ 96.        ,  94.        , 191.        ,   4.        ,\n",
       "          5.        ],\n",
       "       [ 88.        ,  87.        , 166.        ,   3.        ,\n",
       "          4.        ],\n",
       "       [ 67.        ,  70.        , 105.        ,   2.        ,\n",
       "          3.        ],\n",
       "       [ 95.        ,  91.        , 187.        ,   3.        ,\n",
       "          5.        ],\n",
       "       [ 49.        ,  53.        ,  59.        ,   2.        ,\n",
       "          1.        ],\n",
       "       [ 65.        ,  67.        ,  70.        ,   0.        ,\n",
       "          2.        ],\n",
       "       [ 90.        ,  91.        , 182.        ,   3.        ,\n",
       "          4.        ],\n",
       "       [ 78.        ,  79.        , 140.        ,   3.        ,\n",
       "          3.        ],\n",
       "       [ 76.        ,  72.        , 120.        ,   2.        ,\n",
       "          3.        ],\n",
       "       [ 77.        ,  80.        , 115.        ,   3.        ,\n",
       "          2.        ],\n",
       "       [ 94.        ,  94.        , 187.        ,   4.        ,\n",
       "          5.        ],\n",
       "       [ 92.        ,  91.        , 180.        ,   5.        ,\n",
       "          4.        ],\n",
       "       [ 66.        ,  70.        , 100.        ,   2.        ,\n",
       "          2.        ],\n",
       "       [ 68.        ,  70.        , 100.        ,   2.        ,\n",
       "          2.        ],\n",
       "       [ 49.        ,  53.        ,  48.        ,   0.        ,\n",
       "          1.        ],\n",
       "       [ 65.        ,  68.        ,  82.        ,   2.        ,\n",
       "          1.        ],\n",
       "       [ 86.        ,  84.        , 168.        ,   3.        ,\n",
       "          5.        ],\n",
       "       [ 88.        ,  84.        , 164.        ,   4.        ,\n",
       "          2.        ],\n",
       "       [ 59.        ,  64.        ,  78.        ,   0.        ,\n",
       "          1.        ],\n",
       "       [ 84.        ,  80.        ,  89.        ,   2.        ,\n",
       "          1.        ],\n",
       "       [ 86.        ,  86.        , 145.        ,   2.        ,\n",
       "          3.        ],\n",
       "       [ 83.        ,  80.        , 167.        ,   3.        ,\n",
       "          4.        ],\n",
       "       [ 82.        ,  83.        , 168.        ,   3.        ,\n",
       "          3.        ],\n",
       "       [ 61.        ,  60.        ,  88.        ,   1.        ,\n",
       "          2.        ],\n",
       "       [ 59.        ,  64.        ,  40.        ,   2.        ,\n",
       "          1.        ],\n",
       "       [ 60.        ,  63.        ,  64.        ,   1.        ,\n",
       "          1.        ],\n",
       "       [ 67.        ,  64.        ,  70.        ,   1.        ,\n",
       "          1.        ],\n",
       "       [ 64.        ,  60.        ,  75.        ,   2.        ,\n",
       "          1.        ],\n",
       "       [ 78.        ,  75.        , 106.        ,   2.        ,\n",
       "          3.        ],\n",
       "       [ 85.        ,  84.        , 110.        ,   3.        ,\n",
       "          2.        ],\n",
       "       [ 86.        ,  89.        , 129.        ,   2.        ,\n",
       "          5.        ],\n",
       "       [ 45.        ,  50.        ,  77.        ,   1.        ,\n",
       "          1.        ],\n",
       "       [ 78.        ,  77.        , 106.        ,   2.        ,\n",
       "          3.        ],\n",
       "       [ 65.        ,  66.        ,  81.        ,   3.        ,\n",
       "          0.        ],\n",
       "       [ 59.        ,  55.        ,  68.        ,   0.        ,\n",
       "          2.        ],\n",
       "       [ 60.        ,  58.        ,  81.        ,   2.        ,\n",
       "          1.        ],\n",
       "       [ 87.        ,  84.        , 156.        ,   3.        ,\n",
       "          3.        ],\n",
       "       [ 78.        ,  80.        , 134.        ,   2.        ,\n",
       "          3.        ],\n",
       "       [ 65.        ,  70.        ,   0.        ,   2.        ,\n",
       "          0.        ],\n",
       "       [ 89.        ,  90.        , 179.        ,   4.        ,\n",
       "          3.        ],\n",
       "       [ 45.        ,  50.        ,  74.        ,   2.        ,\n",
       "          1.        ],\n",
       "       [ 65.        ,  64.        ,  77.        ,   1.        ,\n",
       "          2.        ],\n",
       "       [ 55.        ,  66.        ,  44.        ,   1.        ,\n",
       "          1.        ],\n",
       "       [ 53.        ,  56.        ,  49.        ,   0.        ,\n",
       "          1.        ],\n",
       "       [ 75.        ,  76.        , 104.        ,   2.        ,\n",
       "          1.        ],\n",
       "       [ 85.        ,  81.        , 145.        ,   3.        ,\n",
       "          3.        ],\n",
       "       [ 55.        ,  59.        ,  67.        ,   1.        ,\n",
       "          0.        ],\n",
       "       [ 65.        ,  68.        ,  98.        ,   2.        ,\n",
       "          1.        ],\n",
       "       [ 85.        ,  89.        , 146.        ,   4.        ,\n",
       "          2.        ],\n",
       "       [ 95.        ,  94.        , 168.        ,   3.        ,\n",
       "          3.        ],\n",
       "       [ 85.        ,  84.        , 169.        ,   3.        ,\n",
       "          4.        ],\n",
       "       [ 75.        ,  77.        , 125.        ,   3.        ,\n",
       "          2.        ],\n",
       "       [ 65.        ,  78.        ,  84.        ,   1.        ,\n",
       "          2.        ],\n",
       "       [ 66.        ,  70.        ,   0.        ,   0.        ,\n",
       "          2.        ],\n",
       "       [ 75.        ,  78.        , 167.        ,   3.        ,\n",
       "          3.        ],\n",
       "       [ 74.        ,  70.        ,   0.        ,   1.        ,\n",
       "          1.        ],\n",
       "       [ 78.        ,  77.        , 135.        ,   3.        ,\n",
       "          2.        ],\n",
       "       [ 65.        ,  61.        ,  71.        ,   1.        ,\n",
       "          1.        ],\n",
       "       [ 64.        ,  62.        ,  75.        ,   1.        ,\n",
       "          2.        ],\n",
       "       [ 85.        ,  84.        , 146.        ,   3.        ,\n",
       "          2.        ],\n",
       "       [ 75.        ,  79.        , 104.        ,   2.        ,\n",
       "          2.        ],\n",
       "       [ 65.        ,  69.        ,  66.        ,   1.        ,\n",
       "          1.        ],\n",
       "       [ 77.        ,  75.        ,  83.        ,   0.        ,\n",
       "          1.        ],\n",
       "       [ 76.        ,  71.        ,  87.        ,   1.        ,\n",
       "          0.        ],\n",
       "       [ 65.        ,  70.        ,  99.        ,   0.        ,\n",
       "          3.        ],\n",
       "       [ 81.        ,  75.        , 134.        ,   3.        ,\n",
       "          2.        ],\n",
       "       [ 84.        ,  86.        , 148.        ,   3.        ,\n",
       "          3.        ],\n",
       "       [ 85.        ,  86.        , 169.        ,   4.        ,\n",
       "          3.        ],\n",
       "       [ 78.        ,  80.        , 149.        ,   3.        ,\n",
       "          3.        ],\n",
       "       [ 86.        ,  80.        , 166.        ,   3.        ,\n",
       "          4.        ],\n",
       "       [ 65.        ,  70.        ,  87.        ,   1.        ,\n",
       "          2.        ]])"
      ]
     },
     "execution_count": 173,
     "metadata": {},
     "output_type": "execute_result"
    }
   ],
   "source": [
    "X"
   ]
  },
  {
   "cell_type": "code",
   "execution_count": 174,
   "metadata": {},
   "outputs": [
    {
     "data": {
      "text/plain": [
       "array([1, 0, 1, 1, 0, 0, 0, 1, 1, 0, 1, 1, 1, 0, 0, 1, 0, 0, 1, 0, 1, 1,\n",
       "       0, 0, 1, 1, 1, 1, 0, 1, 1, 0, 1, 0, 0, 1, 1, 1, 1, 1, 1, 0, 0, 0,\n",
       "       0, 1, 1, 0, 0, 1, 1, 1, 0, 0, 0, 0, 0, 1, 1, 1, 0, 1, 0, 0, 0, 1,\n",
       "       1, 0, 1, 0, 0, 0, 0, 0, 1, 0, 0, 1, 1, 1, 1, 0, 0, 1, 0, 1, 0, 1,\n",
       "       1, 1, 0, 0, 0, 0, 1, 1, 1, 1, 1, 0], dtype=int64)"
      ]
     },
     "execution_count": 174,
     "metadata": {},
     "output_type": "execute_result"
    }
   ],
   "source": [
    "y"
   ]
  },
  {
   "cell_type": "code",
   "execution_count": 175,
   "metadata": {},
   "outputs": [],
   "source": [
    "\n",
    "\n",
    "from sklearn.cross_validation import train_test_split\n",
    "X_train, X_test, y_train, y_test = train_test_split(X, y, test_size = 0.20, random_state = 0)"
   ]
  },
  {
   "cell_type": "code",
   "execution_count": 176,
   "metadata": {},
   "outputs": [],
   "source": [
    "\n",
    "from sklearn.preprocessing import StandardScaler\n",
    "sc = StandardScaler()\n",
    "X_train = sc.fit_transform(X_train)\n",
    "X_test = sc.transform(X_test)\n"
   ]
  },
  {
   "cell_type": "code",
   "execution_count": 177,
   "metadata": {},
   "outputs": [
    {
     "data": {
      "text/plain": [
       "DecisionTreeClassifier(class_weight=None, criterion='entropy', max_depth=None,\n",
       "            max_features=None, max_leaf_nodes=None,\n",
       "            min_impurity_decrease=0.0, min_impurity_split=None,\n",
       "            min_samples_leaf=1, min_samples_split=2,\n",
       "            min_weight_fraction_leaf=0.0, presort=False, random_state=0,\n",
       "            splitter='best')"
      ]
     },
     "execution_count": 177,
     "metadata": {},
     "output_type": "execute_result"
    }
   ],
   "source": [
    "\n",
    "from sklearn.tree import DecisionTreeClassifier\n",
    "classifier = DecisionTreeClassifier(criterion = 'entropy', random_state = 0)\n",
    "classifier.fit(X_train, y_train)\n",
    "\n"
   ]
  },
  {
   "cell_type": "code",
   "execution_count": 178,
   "metadata": {},
   "outputs": [],
   "source": [
    "\n",
    "y_pred = classifier.predict(X_test)\n",
    "\n",
    "from sklearn.metrics import confusion_matrix\n",
    "cm = confusion_matrix(y_test, y_pred)\n"
   ]
  },
  {
   "cell_type": "code",
   "execution_count": 179,
   "metadata": {},
   "outputs": [
    {
     "data": {
      "text/plain": [
       "array([1, 0, 1, 0, 0, 0, 0, 0, 0, 1, 0, 0, 1, 0, 1, 1, 0, 1, 0, 1],\n",
       "      dtype=int64)"
      ]
     },
     "execution_count": 179,
     "metadata": {},
     "output_type": "execute_result"
    }
   ],
   "source": [
    "y_test"
   ]
  },
  {
   "cell_type": "code",
   "execution_count": 180,
   "metadata": {},
   "outputs": [
    {
     "data": {
      "text/plain": [
       "array([1, 0, 1, 0, 0, 0, 0, 1, 1, 1, 0, 0, 1, 0, 1, 1, 0, 1, 0, 1],\n",
       "      dtype=int64)"
      ]
     },
     "execution_count": 180,
     "metadata": {},
     "output_type": "execute_result"
    }
   ],
   "source": [
    "y_pred"
   ]
  },
  {
   "cell_type": "code",
   "execution_count": null,
   "metadata": {},
   "outputs": [],
   "source": [
    "\n"
   ]
  },
  {
   "cell_type": "code",
   "execution_count": null,
   "metadata": {},
   "outputs": [],
   "source": []
  },
  {
   "cell_type": "code",
   "execution_count": null,
   "metadata": {},
   "outputs": [],
   "source": []
  },
  {
   "cell_type": "code",
   "execution_count": null,
   "metadata": {},
   "outputs": [],
   "source": []
  }
 ],
 "metadata": {
  "kernelspec": {
   "display_name": "Python 3",
   "language": "python",
   "name": "python3"
  },
  "language_info": {
   "codemirror_mode": {
    "name": "ipython",
    "version": 3
   },
   "file_extension": ".py",
   "mimetype": "text/x-python",
   "name": "python",
   "nbconvert_exporter": "python",
   "pygments_lexer": "ipython3",
   "version": "3.7.0"
  }
 },
 "nbformat": 4,
 "nbformat_minor": 2
}
